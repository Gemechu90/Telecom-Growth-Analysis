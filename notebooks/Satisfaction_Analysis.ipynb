{
 "cells": [
  {
   "cell_type": "markdown",
   "metadata": {},
   "source": [
    "## Customer Satisfaction Analysis\n",
    "This task involves analyzing customer satisfaction based on user engagement and experience analyses \n",
    "\n",
    "1. Assigning engagement and experience scores to each user\n",
    "2. Calculating a satisfaction score\n",
    "3. Building a regression model to predict satisfaction scores\n",
    "4. Clustering users based on engagement and experience scores\n",
    "5. Aggregating satisfaction and experience scores per cluster"
   ]
  },
  {
   "cell_type": "code",
   "execution_count": null,
   "metadata": {
    "vscode": {
     "languageId": "plaintext"
    }
   },
   "outputs": [],
   "source": [
    "## Add the parent directory to the system path \n",
    "import os\n",
    "import sys\n",
    "sys.path.append(os.path.abspath(os.path.join('..')))"
   ]
  }
 ],
 "metadata": {
  "language_info": {
   "name": "python"
  }
 },
 "nbformat": 4,
 "nbformat_minor": 2
}
